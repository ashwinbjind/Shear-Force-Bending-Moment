{
 "cells": [
  {
   "cell_type": "markdown",
   "metadata": {},
   "source": [
    "![](SimplySUPBeam1_3F.jpg)\n",
    "\n",
    " - Enter the magnitude of force.\n",
    " - Enter the distance as the notations."
   ]
  },
  {
   "cell_type": "code",
   "execution_count": 1,
   "metadata": {},
   "outputs": [
    {
     "name": "stdout",
     "output_type": "stream",
     "text": [
      "Enter the Force F1  (N) =2\n",
      "Enter the Force F2 (N) =4\n",
      "Enter the Force F3  (N) =2\n",
      "Enter the lenght L1 in meters =1\n",
      "Enter the lenght L2 in meters =2\n",
      "Enter the lenght L3 in meters =2\n",
      "Enter the lenght L3 in meters =1\n",
      "Reaction at point B in N= 4.0\n",
      "Reaction at point A in N= 4.0\n",
      "Shear Force at point (A)= 4.0\n",
      "Shear Force at point (B)= -4.0\n",
      "Shear Force at point (C)= 4.0\n",
      "Shear Force at point (D)= 2.0\n",
      "Shear Force at point (E)= -2.0\n",
      "The Shear Force and Bending Moment Diagrams are the results\n",
      "10\n"
     ]
    },
    {
     "data": {
      "image/png": "[encoded data removed]",
      "text/plain": [
       "<Figure size 432x288 with 1 Axes>"
      ]
     },
     "metadata": {
      "needs_background": "light"
     },
     "output_type": "display_data"
    },
    {
     "name": "stdout",
     "output_type": "stream",
     "text": [
      "Bending moment at point A= 0\n",
      "Bending moment at point B= 0\n",
      "Bending moment at point C= 4.0\n",
      "Bending moment at point D= 8.0\n",
      "Bending moment at point E= 4.0\n"
     ]
    },
    {
     "data": {
      "image/png": "[encoded data removed]",
      "text/plain": [
       "<Figure size 432x288 with 1 Axes>"
      ]
     },
     "metadata": {
      "needs_background": "light"
     },
     "output_type": "display_data"
    }
   ],
   "source": [
    "import math\n",
    "%matplotlib  inline\n",
    "\n",
    "#Variable Decleration\n",
    "\n",
    "\n",
    "Load_1 =input(\"Enter the Force F1  (N) =\")   #=14 Force in kNa\n",
    "F1 =float(Load_1)\n",
    "\n",
    "Load_2 =input(\"Enter the Force F2 (N) =\")   \n",
    "F2 =float(Load_2)                            #F2=28 #Force in kN\n",
    "\n",
    "Load_3 =input(\"Enter the Force F3  (N) =\")   #=14 Force in kNa\n",
    "F3 =float(Load_3)\n",
    "\n",
    "Length_1 =input(\"Enter the lenght L1 in meters =\")    #Length in m\n",
    "L1 =float(Length_1) \n",
    "\n",
    "Length_2 =input(\"Enter the lenght L2 in meters =\")   #Length in m\n",
    "L2 =float(Length_2)\n",
    "\n",
    "Length_3 =input(\"Enter the lenght L3 in meters =\")   #Length in m\n",
    "L3 =float(Length_3)\n",
    "\n",
    "Length_4 =input(\"Enter the lenght L3 in meters =\")   #Length in m\n",
    "L4 =float(Length_4)\n",
    "\n",
    "TL=L1+L2+L3+L4\n",
    "\n",
    "Rb=((F1 *L1)+(F2*(L1+L2))+(F3*(L1+L2+L3)))/TL #Reaction at point D in kN\n",
    "print(\"Reaction at point B in N=\", Rb)\n",
    "\n",
    "Ra=(F1+F2+F3)-Rb #Reaction at point A in kN\n",
    "print(\"Reaction at point A in N=\", Ra)\n",
    "\n",
    "SF_E=F3-Rb\n",
    "SF_D=SF_E+F2\n",
    "SF_C=SF_D+F1\n",
    "\n",
    "#SHEAR FORCE\n",
    "print(\"Shear Force at point (A)=\",Ra)\n",
    "print(\"Shear Force at point (B)=\",-Rb)\n",
    "print(\"Shear Force at point (C)=\",SF_C)\n",
    "print(\"Shear Force at point (D)=\",SF_D)\n",
    "print(\"Shear Force at point (E)=\",SF_E)\n",
    "\n",
    "#Calculations\n",
    "#Importing the plotting libraries and computing the plots\n",
    "import matplotlib.pyplot as plt\n",
    "\n",
    "#Result\n",
    "print (\"The Shear Force and Bending Moment Diagrams are the results\")\n",
    "#Plotting the SHear Force Diagram\n",
    "\n",
    "#X1=[0,l1,l1+0.0000000001,l1+l2,l1+l2+0.0000000001,l1+l2+l1]\n",
    "\n",
    "X1=[0,0,L1,L1+0.0000000001,L1+L2,L1+L2+0.0000000001,L1+L2+L3,L1+L2++L3+0.0000000001,L1+L2+L3+L4,L1+L2+L3+L4+0.0000000001]\n",
    "print(len(X1))\n",
    "Y1=[0,Ra,Ra,SF_C,SF_C,SF_D,SF_D,SF_E,SF_E,0]\n",
    "#Y1=[V_ab,V_ab,V_bc,V_bc,V_cd,V_cd]\n",
    "Z1=[0,0,0,0,0,0,0,0,0,0]\n",
    "plt.plot(X1,Y1,X1,Z1)\n",
    "plt.xlabel(\"Length x in m\")\n",
    "plt.ylabel(\"Shear Force in kN\")\n",
    "plt.show()\n",
    "\n",
    "#BENDING MOMENT\n",
    "BM_A=0\n",
    "BM_B=0\n",
    "BM_E=Rb*L4\n",
    "BM_D=((Rb*(L3+L4))-(F3*L3))\n",
    "BM_C=((Rb*(L2+L3+L4))-(F3*(L2+L3))-(F2*L2))\n",
    "\n",
    "print(\"Bending moment at point A=\",BM_A)\n",
    "print(\"Bending moment at point B=\",BM_B)\n",
    "print(\"Bending moment at point C=\",BM_C)\n",
    "print(\"Bending moment at point D=\",BM_D)\n",
    "print(\"Bending moment at point E=\",BM_E)\n",
    "\n",
    "\n",
    "#Plotting the Bendimg Moment Diagram\n",
    "\n",
    "#Y2=[0,36,48,0]\n",
    "Y2=[BM_A,BM_C,BM_D,BM_E,BM_B]\n",
    "X2=[0,L1,L1+L2,L1+L2+L3,L1+L2+L3+L4]\n",
    "Z2=[0,0,0,0,0]\n",
    "plt.plot(X2,Y2)\n",
    "plt.xlabel(\"Lenght in m\")\n",
    "plt.ylabel(\"Bending Moment in kN.m\")\n",
    "plt.show()"
   ]
  },
  {
   "cell_type": "code",
   "execution_count": null,
   "metadata": {},
   "outputs": [],
   "source": []
  }
 ],
 "metadata": {
  "kernelspec": {
   "display_name": "Python 3",
   "language": "python",
   "name": "python3"
  },
  "language_info": {
   "codemirror_mode": {
    "name": "ipython",
    "version": 3
   },
   "file_extension": ".py",
   "mimetype": "text/x-python",
   "name": "python",
   "nbconvert_exporter": "python",
   "pygments_lexer": "ipython3",
   "version": "3.8.3"
  }
 },
 "nbformat": 4,
 "nbformat_minor": 4
}
